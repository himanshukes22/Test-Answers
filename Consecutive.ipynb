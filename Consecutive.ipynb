{
 "cells": [
  {
   "cell_type": "markdown",
   "metadata": {},
   "source": [
    "# Question 3\n",
    "Assume we have list like this\n",
    "[0,0,0,1,1,1,0,0,0,1,1,0,1,1,1,1,0,0,1,1]\n",
    "Basically a list of zero’s and one’s.\n",
    "Write a python function to the number of maximum consecutive  one’s present in the array. \n",
    "E.g output for the above array would be 4\n"
   ]
  },
  {
   "cell_type": "code",
   "execution_count": 3,
   "metadata": {},
   "outputs": [
    {
     "name": "stdout",
     "output_type": "stream",
     "text": [
      "4\n"
     ]
    }
   ],
   "source": [
    "list=[0,0,0,1,1,1,0,0,0,1,1,0,1,1,1,1,0,0,1,1]\n",
    "n=len(list)\n",
    "def consecutive_one(l,n):\n",
    "    count=0\n",
    "    maax=0\n",
    "    for j in range(0,n):\n",
    "        if (l[j]==0):\n",
    "            count=0\n",
    "        else:\n",
    "            count+=1\n",
    "            maax=max(maax,count)\n",
    "    return maax\n",
    "max_one=consecutive_one(list,n)\n",
    "print(max_one)"
   ]
  },
  {
   "cell_type": "code",
   "execution_count": null,
   "metadata": {},
   "outputs": [],
   "source": []
  }
 ],
 "metadata": {
  "kernelspec": {
   "display_name": "Python 3",
   "language": "python",
   "name": "python3"
  },
  "language_info": {
   "codemirror_mode": {
    "name": "ipython",
    "version": 3
   },
   "file_extension": ".py",
   "mimetype": "text/x-python",
   "name": "python",
   "nbconvert_exporter": "python",
   "pygments_lexer": "ipython3",
   "version": "3.8.3"
  }
 },
 "nbformat": 4,
 "nbformat_minor": 4
}
