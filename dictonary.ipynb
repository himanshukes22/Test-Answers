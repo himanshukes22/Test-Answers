{
 "cells": [
  {
   "cell_type": "markdown",
   "metadata": {},
   "source": [
    "# Question2 \n",
    "Setup a dict structure like this in python\n",
    "Dict1: (this is a key, value pair of user id and username)\n",
    "{\n",
    "   “1” : “name1”,\n",
    "   “2” : “name2”,\n",
    "   “3” : “name3”\n",
    "} etc.. \n",
    "Dict2: (this is a key value pair of user id and exam score) \n",
    "{\n",
    "   “1” : 50,\n",
    "   “2” : 60\n",
    "   “3” : 70\n",
    "}\n",
    "These are just sample data assume there are hundreds of users \n",
    "\n",
    "Write a function in python in python, which will return maximum i.e function should return dictionary like\n",
    "{\n",
    "  “3” : 70\n",
    "}\n"
   ]
  },
  {
   "cell_type": "code",
   "execution_count": 15,
   "metadata": {},
   "outputs": [
    {
     "name": "stdout",
     "output_type": "stream",
     "text": [
      "{'3': 70}\n"
     ]
    }
   ],
   "source": [
    "dict1={\"1\":\"Aman\",\"2\":\"Ram\",\"3\":\"Syamm\",\"4\":\"Prem\"}\n",
    "dict2={\"1\":50,\"2\":60,\"3\":70,\"4\":23}\n",
    "def max_d(dict2):\n",
    "    dict3={}\n",
    "    d_val=dict2.values()\n",
    "    d_key=max(dict2,key=dict2.get)\n",
    "    max_v=max(d_val)\n",
    "    dict3[d_key]=max_v\n",
    "    print(dict3)\n",
    "max_d(dict2)"
   ]
  },
  {
   "cell_type": "code",
   "execution_count": null,
   "metadata": {},
   "outputs": [],
   "source": []
  },
  {
   "cell_type": "code",
   "execution_count": null,
   "metadata": {},
   "outputs": [],
   "source": []
  }
 ],
 "metadata": {
  "kernelspec": {
   "display_name": "Python 3",
   "language": "python",
   "name": "python3"
  },
  "language_info": {
   "codemirror_mode": {
    "name": "ipython",
    "version": 3
   },
   "file_extension": ".py",
   "mimetype": "text/x-python",
   "name": "python",
   "nbconvert_exporter": "python",
   "pygments_lexer": "ipython3",
   "version": "3.8.3"
  }
 },
 "nbformat": 4,
 "nbformat_minor": 4
}
